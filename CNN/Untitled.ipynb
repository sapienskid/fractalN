{
 "cells": [
  {
   "cell_type": "code",
   "execution_count": 2,
   "id": "e148444a-5131-4ffb-9c69-e0d1ccbf7901",
   "metadata": {},
   "outputs": [
    {
     "name": "stdout",
     "output_type": "stream",
     "text": [
      "Collecting tensorflow\n",
      "  Downloading tensorflow-2.18.0-cp312-cp312-win_amd64.whl.metadata (3.3 kB)\n",
      "Collecting tensorflow-intel==2.18.0 (from tensorflow)\n",
      "  Downloading tensorflow_intel-2.18.0-cp312-cp312-win_amd64.whl.metadata (4.9 kB)\n",
      "Collecting absl-py>=1.0.0 (from tensorflow-intel==2.18.0->tensorflow)\n",
      "  Downloading absl_py-2.1.0-py3-none-any.whl.metadata (2.3 kB)\n",
      "Collecting astunparse>=1.6.0 (from tensorflow-intel==2.18.0->tensorflow)\n",
      "  Downloading astunparse-1.6.3-py2.py3-none-any.whl.metadata (4.4 kB)\n",
      "Collecting flatbuffers>=24.3.25 (from tensorflow-intel==2.18.0->tensorflow)\n",
      "  Downloading flatbuffers-24.3.25-py2.py3-none-any.whl.metadata (850 bytes)\n",
      "Collecting gast!=0.5.0,!=0.5.1,!=0.5.2,>=0.2.1 (from tensorflow-intel==2.18.0->tensorflow)\n",
      "  Downloading gast-0.6.0-py3-none-any.whl.metadata (1.3 kB)\n",
      "Collecting google-pasta>=0.1.1 (from tensorflow-intel==2.18.0->tensorflow)\n",
      "  Downloading google_pasta-0.2.0-py3-none-any.whl.metadata (814 bytes)\n",
      "Collecting libclang>=13.0.0 (from tensorflow-intel==2.18.0->tensorflow)\n",
      "  Downloading libclang-18.1.1-py2.py3-none-win_amd64.whl.metadata (5.3 kB)\n",
      "Collecting opt-einsum>=2.3.2 (from tensorflow-intel==2.18.0->tensorflow)\n",
      "  Downloading opt_einsum-3.4.0-py3-none-any.whl.metadata (6.3 kB)\n",
      "Requirement already satisfied: packaging in c:\\users\\shubh\\appdata\\local\\programs\\python\\python312\\lib\\site-packages (from tensorflow-intel==2.18.0->tensorflow) (23.2)\n",
      "Requirement already satisfied: protobuf!=4.21.0,!=4.21.1,!=4.21.2,!=4.21.3,!=4.21.4,!=4.21.5,<6.0.0dev,>=3.20.3 in c:\\users\\shubh\\appdata\\local\\programs\\python\\python312\\lib\\site-packages (from tensorflow-intel==2.18.0->tensorflow) (5.28.1)\n",
      "Requirement already satisfied: requests<3,>=2.21.0 in c:\\users\\shubh\\appdata\\local\\programs\\python\\python312\\lib\\site-packages (from tensorflow-intel==2.18.0->tensorflow) (2.31.0)\n",
      "Requirement already satisfied: setuptools in c:\\users\\shubh\\appdata\\local\\programs\\python\\python312\\lib\\site-packages (from tensorflow-intel==2.18.0->tensorflow) (69.1.1)\n",
      "Requirement already satisfied: six>=1.12.0 in c:\\users\\shubh\\appdata\\local\\programs\\python\\python312\\lib\\site-packages (from tensorflow-intel==2.18.0->tensorflow) (1.16.0)\n",
      "Collecting termcolor>=1.1.0 (from tensorflow-intel==2.18.0->tensorflow)\n",
      "  Downloading termcolor-2.5.0-py3-none-any.whl.metadata (6.1 kB)\n",
      "Requirement already satisfied: typing-extensions>=3.6.6 in c:\\users\\shubh\\appdata\\local\\programs\\python\\python312\\lib\\site-packages (from tensorflow-intel==2.18.0->tensorflow) (4.12.2)\n",
      "Collecting wrapt>=1.11.0 (from tensorflow-intel==2.18.0->tensorflow)\n",
      "  Downloading wrapt-1.17.0-cp312-cp312-win_amd64.whl.metadata (6.5 kB)\n",
      "Collecting grpcio<2.0,>=1.24.3 (from tensorflow-intel==2.18.0->tensorflow)\n",
      "  Downloading grpcio-1.68.1-cp312-cp312-win_amd64.whl.metadata (4.0 kB)\n",
      "Collecting tensorboard<2.19,>=2.18 (from tensorflow-intel==2.18.0->tensorflow)\n",
      "  Downloading tensorboard-2.18.0-py3-none-any.whl.metadata (1.6 kB)\n",
      "Collecting keras>=3.5.0 (from tensorflow-intel==2.18.0->tensorflow)\n",
      "  Downloading keras-3.7.0-py3-none-any.whl.metadata (5.8 kB)\n",
      "Requirement already satisfied: numpy<2.1.0,>=1.26.0 in c:\\users\\shubh\\appdata\\local\\programs\\python\\python312\\lib\\site-packages (from tensorflow-intel==2.18.0->tensorflow) (1.26.4)\n",
      "Collecting h5py>=3.11.0 (from tensorflow-intel==2.18.0->tensorflow)\n",
      "  Downloading h5py-3.12.1-cp312-cp312-win_amd64.whl.metadata (2.5 kB)\n",
      "Collecting ml-dtypes<0.5.0,>=0.4.0 (from tensorflow-intel==2.18.0->tensorflow)\n",
      "  Downloading ml_dtypes-0.4.1-cp312-cp312-win_amd64.whl.metadata (20 kB)\n",
      "Collecting wheel<1.0,>=0.23.0 (from astunparse>=1.6.0->tensorflow-intel==2.18.0->tensorflow)\n",
      "  Downloading wheel-0.45.1-py3-none-any.whl.metadata (2.3 kB)\n",
      "Requirement already satisfied: rich in c:\\users\\shubh\\appdata\\local\\programs\\python\\python312\\lib\\site-packages (from keras>=3.5.0->tensorflow-intel==2.18.0->tensorflow) (13.8.1)\n",
      "Collecting namex (from keras>=3.5.0->tensorflow-intel==2.18.0->tensorflow)\n",
      "  Downloading namex-0.0.8-py3-none-any.whl.metadata (246 bytes)\n",
      "Collecting optree (from keras>=3.5.0->tensorflow-intel==2.18.0->tensorflow)\n",
      "  Downloading optree-0.13.1-cp312-cp312-win_amd64.whl.metadata (48 kB)\n",
      "Requirement already satisfied: charset-normalizer<4,>=2 in c:\\users\\shubh\\appdata\\local\\programs\\python\\python312\\lib\\site-packages (from requests<3,>=2.21.0->tensorflow-intel==2.18.0->tensorflow) (3.3.2)\n",
      "Requirement already satisfied: idna<4,>=2.5 in c:\\users\\shubh\\appdata\\local\\programs\\python\\python312\\lib\\site-packages (from requests<3,>=2.21.0->tensorflow-intel==2.18.0->tensorflow) (3.6)\n",
      "Requirement already satisfied: urllib3<3,>=1.21.1 in c:\\users\\shubh\\appdata\\local\\programs\\python\\python312\\lib\\site-packages (from requests<3,>=2.21.0->tensorflow-intel==2.18.0->tensorflow) (2.2.0)\n",
      "Requirement already satisfied: certifi>=2017.4.17 in c:\\users\\shubh\\appdata\\local\\programs\\python\\python312\\lib\\site-packages (from requests<3,>=2.21.0->tensorflow-intel==2.18.0->tensorflow) (2024.2.2)\n",
      "Collecting markdown>=2.6.8 (from tensorboard<2.19,>=2.18->tensorflow-intel==2.18.0->tensorflow)\n",
      "  Downloading Markdown-3.7-py3-none-any.whl.metadata (7.0 kB)\n",
      "Collecting tensorboard-data-server<0.8.0,>=0.7.0 (from tensorboard<2.19,>=2.18->tensorflow-intel==2.18.0->tensorflow)\n",
      "  Downloading tensorboard_data_server-0.7.2-py3-none-any.whl.metadata (1.1 kB)\n",
      "Collecting werkzeug>=1.0.1 (from tensorboard<2.19,>=2.18->tensorflow-intel==2.18.0->tensorflow)\n",
      "  Downloading werkzeug-3.1.3-py3-none-any.whl.metadata (3.7 kB)\n",
      "Requirement already satisfied: MarkupSafe>=2.1.1 in c:\\users\\shubh\\appdata\\local\\programs\\python\\python312\\lib\\site-packages (from werkzeug>=1.0.1->tensorboard<2.19,>=2.18->tensorflow-intel==2.18.0->tensorflow) (2.1.5)\n",
      "Requirement already satisfied: markdown-it-py>=2.2.0 in c:\\users\\shubh\\appdata\\local\\programs\\python\\python312\\lib\\site-packages (from rich->keras>=3.5.0->tensorflow-intel==2.18.0->tensorflow) (3.0.0)\n",
      "Requirement already satisfied: pygments<3.0.0,>=2.13.0 in c:\\users\\shubh\\appdata\\local\\programs\\python\\python312\\lib\\site-packages (from rich->keras>=3.5.0->tensorflow-intel==2.18.0->tensorflow) (2.17.2)\n",
      "Requirement already satisfied: mdurl~=0.1 in c:\\users\\shubh\\appdata\\local\\programs\\python\\python312\\lib\\site-packages (from markdown-it-py>=2.2.0->rich->keras>=3.5.0->tensorflow-intel==2.18.0->tensorflow) (0.1.2)\n",
      "Downloading tensorflow-2.18.0-cp312-cp312-win_amd64.whl (7.5 kB)\n",
      "Downloading tensorflow_intel-2.18.0-cp312-cp312-win_amd64.whl (390.3 MB)\n",
      "   ---------------------------------------- 0.0/390.3 MB ? eta -:--:--\n",
      "   ---------------------------------------- 0.3/390.3 MB ? eta -:--:--\n",
      "   ---------------------------------------- 1.6/390.3 MB 7.0 MB/s eta 0:00:56\n",
      "   ---------------------------------------- 3.1/390.3 MB 6.1 MB/s eta 0:01:03\n",
      "    --------------------------------------- 5.8/390.3 MB 7.8 MB/s eta 0:00:50\n",
      "    --------------------------------------- 8.1/390.3 MB 8.8 MB/s eta 0:00:44\n",
      "   - -------------------------------------- 10.5/390.3 MB 9.2 MB/s eta 0:00:42\n",
      "   - -------------------------------------- 13.1/390.3 MB 9.7 MB/s eta 0:00:39\n",
      "   - -------------------------------------- 14.7/390.3 MB 9.9 MB/s eta 0:00:38\n",
      "   - -------------------------------------- 18.1/390.3 MB 10.2 MB/s eta 0:00:37\n",
      "   -- ------------------------------------- 20.2/390.3 MB 10.4 MB/s eta 0:00:36\n",
      "   -- ------------------------------------- 23.1/390.3 MB 10.5 MB/s eta 0:00:35\n",
      "   -- ------------------------------------- 25.4/390.3 MB 10.6 MB/s eta 0:00:35\n",
      "   -- ------------------------------------- 27.8/390.3 MB 10.7 MB/s eta 0:00:34\n",
      "   -- ------------------------------------- 28.8/390.3 MB 10.4 MB/s eta 0:00:35\n",
      "   --- ------------------------------------ 29.9/390.3 MB 10.0 MB/s eta 0:00:37\n",
      "   --- ------------------------------------ 33.3/390.3 MB 10.4 MB/s eta 0:00:35\n",
      "   --- ------------------------------------ 34.9/390.3 MB 10.2 MB/s eta 0:00:35\n",
      "   --- ------------------------------------ 37.5/390.3 MB 10.3 MB/s eta 0:00:35\n",
      "   ---- ----------------------------------- 39.1/390.3 MB 10.3 MB/s eta 0:00:34\n",
      "   ---- ----------------------------------- 42.2/390.3 MB 10.4 MB/s eta 0:00:34\n",
      "   ---- ----------------------------------- 44.3/390.3 MB 10.5 MB/s eta 0:00:34\n",
      "   ---- ----------------------------------- 47.2/390.3 MB 10.6 MB/s eta 0:00:33\n",
      "   ----- ---------------------------------- 49.5/390.3 MB 10.6 MB/s eta 0:00:33\n",
      "   ----- ---------------------------------- 51.9/390.3 MB 10.7 MB/s eta 0:00:32\n",
      "   ----- ---------------------------------- 54.0/390.3 MB 10.6 MB/s eta 0:00:32\n",
      "   ----- ---------------------------------- 55.6/390.3 MB 10.5 MB/s eta 0:00:32\n",
      "   ----- ---------------------------------- 58.2/390.3 MB 10.6 MB/s eta 0:00:32\n",
      "   ------ --------------------------------- 59.5/390.3 MB 10.6 MB/s eta 0:00:32\n",
      "   ------ --------------------------------- 62.4/390.3 MB 10.5 MB/s eta 0:00:32\n",
      "   ------ --------------------------------- 64.2/390.3 MB 10.5 MB/s eta 0:00:31\n",
      "   ------ --------------------------------- 67.1/390.3 MB 10.6 MB/s eta 0:00:31\n",
      "   ------- -------------------------------- 69.5/390.3 MB 10.6 MB/s eta 0:00:31\n",
      "   ------- -------------------------------- 71.8/390.3 MB 10.7 MB/s eta 0:00:30\n",
      "   ------- -------------------------------- 74.4/390.3 MB 10.7 MB/s eta 0:00:30\n",
      "   ------- -------------------------------- 76.8/390.3 MB 10.7 MB/s eta 0:00:30\n",
      "   -------- ------------------------------- 79.2/390.3 MB 10.7 MB/s eta 0:00:29\n",
      "   -------- ------------------------------- 81.5/390.3 MB 10.8 MB/s eta 0:00:29\n",
      "   -------- ------------------------------- 83.9/390.3 MB 10.8 MB/s eta 0:00:29\n",
      "   -------- ------------------------------- 85.5/390.3 MB 10.8 MB/s eta 0:00:29\n",
      "   --------- ------------------------------ 88.6/390.3 MB 10.8 MB/s eta 0:00:28\n",
      "   --------- ------------------------------ 90.7/390.3 MB 10.9 MB/s eta 0:00:28\n",
      "   --------- ------------------------------ 93.3/390.3 MB 10.9 MB/s eta 0:00:28\n",
      "   --------- ------------------------------ 95.7/390.3 MB 10.9 MB/s eta 0:00:28\n",
      "   --------- ------------------------------ 96.7/390.3 MB 10.8 MB/s eta 0:00:28\n",
      "   ---------- ----------------------------- 99.4/390.3 MB 10.8 MB/s eta 0:00:27\n",
      "   ---------- ---------------------------- 100.4/390.3 MB 10.7 MB/s eta 0:00:28\n",
      "   ---------- ---------------------------- 102.0/390.3 MB 10.7 MB/s eta 0:00:28\n",
      "   ---------- ---------------------------- 104.3/390.3 MB 10.6 MB/s eta 0:00:28\n",
      "   ---------- ---------------------------- 106.7/390.3 MB 10.6 MB/s eta 0:00:27\n",
      "   ---------- ---------------------------- 108.5/390.3 MB 10.6 MB/s eta 0:00:27\n",
      "   ---------- ---------------------------- 108.8/390.3 MB 10.4 MB/s eta 0:00:28\n",
      "   ---------- ---------------------------- 109.8/390.3 MB 10.3 MB/s eta 0:00:28\n",
      "   ----------- --------------------------- 111.4/390.3 MB 10.3 MB/s eta 0:00:28\n",
      "   ----------- --------------------------- 114.6/390.3 MB 10.3 MB/s eta 0:00:27\n",
      "   ----------- --------------------------- 116.4/390.3 MB 10.3 MB/s eta 0:00:27\n",
      "   ----------- --------------------------- 119.3/390.3 MB 10.4 MB/s eta 0:00:27\n",
      "   ------------ -------------------------- 121.6/390.3 MB 10.4 MB/s eta 0:00:26\n",
      "   ------------ -------------------------- 124.0/390.3 MB 10.4 MB/s eta 0:00:26\n",
      "   ------------ -------------------------- 126.6/390.3 MB 10.4 MB/s eta 0:00:26\n",
      "   ------------ -------------------------- 127.9/390.3 MB 10.4 MB/s eta 0:00:26\n",
      "   ------------- ------------------------- 130.5/390.3 MB 10.4 MB/s eta 0:00:26\n",
      "   ------------- ------------------------- 132.9/390.3 MB 10.4 MB/s eta 0:00:25\n",
      "   ------------- ------------------------- 135.5/390.3 MB 10.4 MB/s eta 0:00:25\n",
      "   ------------- ------------------------- 137.1/390.3 MB 10.4 MB/s eta 0:00:25\n",
      "   -------------- ------------------------ 140.2/390.3 MB 10.5 MB/s eta 0:00:24\n",
      "   -------------- ------------------------ 141.0/390.3 MB 10.5 MB/s eta 0:00:24\n",
      "   -------------- ------------------------ 144.4/390.3 MB 10.4 MB/s eta 0:00:24\n",
      "   -------------- ------------------------ 146.5/390.3 MB 10.5 MB/s eta 0:00:24\n",
      "   -------------- ------------------------ 149.2/390.3 MB 10.5 MB/s eta 0:00:23\n",
      "   --------------- ----------------------- 151.8/390.3 MB 10.5 MB/s eta 0:00:23\n",
      "   --------------- ----------------------- 154.1/390.3 MB 10.5 MB/s eta 0:00:23\n",
      "   --------------- ----------------------- 156.5/390.3 MB 10.5 MB/s eta 0:00:23\n",
      "   --------------- ----------------------- 158.9/390.3 MB 10.6 MB/s eta 0:00:22\n",
      "   ---------------- ---------------------- 161.5/390.3 MB 10.6 MB/s eta 0:00:22\n",
      "   ---------------- ---------------------- 162.8/390.3 MB 10.5 MB/s eta 0:00:22\n",
      "   ---------------- ---------------------- 165.7/390.3 MB 10.6 MB/s eta 0:00:22\n",
      "   ---------------- ---------------------- 167.2/390.3 MB 10.5 MB/s eta 0:00:22\n",
      "   ---------------- ---------------------- 169.9/390.3 MB 10.6 MB/s eta 0:00:21\n",
      "   ----------------- --------------------- 171.7/390.3 MB 10.5 MB/s eta 0:00:21\n",
      "   ----------------- --------------------- 174.1/390.3 MB 10.5 MB/s eta 0:00:21\n",
      "   ----------------- --------------------- 176.7/390.3 MB 10.6 MB/s eta 0:00:21\n",
      "   ----------------- --------------------- 179.0/390.3 MB 10.6 MB/s eta 0:00:20\n",
      "   ------------------ -------------------- 181.7/390.3 MB 10.6 MB/s eta 0:00:20\n",
      "   ------------------ -------------------- 184.0/390.3 MB 10.6 MB/s eta 0:00:20\n",
      "   ------------------ -------------------- 186.6/390.3 MB 10.6 MB/s eta 0:00:20\n",
      "   ------------------ -------------------- 188.0/390.3 MB 10.6 MB/s eta 0:00:20\n",
      "   ------------------- ------------------- 190.8/390.3 MB 10.6 MB/s eta 0:00:19\n",
      "   ------------------- ------------------- 192.4/390.3 MB 10.6 MB/s eta 0:00:19\n",
      "   ------------------- ------------------- 195.3/390.3 MB 10.6 MB/s eta 0:00:19\n",
      "   ------------------- ------------------- 197.7/390.3 MB 10.6 MB/s eta 0:00:19\n",
      "   ------------------- ------------------- 199.2/390.3 MB 10.6 MB/s eta 0:00:19\n",
      "   -------------------- ------------------ 202.4/390.3 MB 10.6 MB/s eta 0:00:18\n",
      "   -------------------- ------------------ 204.7/390.3 MB 10.6 MB/s eta 0:00:18\n",
      "   -------------------- ------------------ 207.4/390.3 MB 10.6 MB/s eta 0:00:18\n",
      "   -------------------- ------------------ 209.7/390.3 MB 10.6 MB/s eta 0:00:17\n",
      "   --------------------- ----------------- 212.1/390.3 MB 10.6 MB/s eta 0:00:17\n",
      "   --------------------- ----------------- 213.6/390.3 MB 10.6 MB/s eta 0:00:17\n",
      "   --------------------- ----------------- 216.3/390.3 MB 10.6 MB/s eta 0:00:17\n",
      "   --------------------- ----------------- 217.8/390.3 MB 10.6 MB/s eta 0:00:17\n",
      "   ---------------------- ---------------- 220.2/390.3 MB 10.6 MB/s eta 0:00:17\n",
      "   ---------------------- ---------------- 222.3/390.3 MB 10.6 MB/s eta 0:00:16\n",
      "   ---------------------- ---------------- 225.2/390.3 MB 10.6 MB/s eta 0:00:16\n",
      "   ---------------------- ---------------- 227.0/390.3 MB 10.7 MB/s eta 0:00:16\n",
      "   ---------------------- ---------------- 227.5/390.3 MB 10.6 MB/s eta 0:00:16\n",
      "   ---------------------- ---------------- 229.4/390.3 MB 10.5 MB/s eta 0:00:16\n",
      "   ----------------------- --------------- 231.2/390.3 MB 10.5 MB/s eta 0:00:16\n",
      "   ----------------------- --------------- 234.4/390.3 MB 10.5 MB/s eta 0:00:15\n",
      "   ----------------------- --------------- 236.7/390.3 MB 10.6 MB/s eta 0:00:15\n",
      "   ----------------------- --------------- 239.1/390.3 MB 10.6 MB/s eta 0:00:15\n",
      "   ------------------------ -------------- 241.4/390.3 MB 10.6 MB/s eta 0:00:15\n",
      "   ------------------------ -------------- 243.8/390.3 MB 10.6 MB/s eta 0:00:14\n",
      "   ------------------------ -------------- 246.4/390.3 MB 10.6 MB/s eta 0:00:14\n",
      "   ------------------------ -------------- 248.8/390.3 MB 10.6 MB/s eta 0:00:14\n",
      "   ------------------------- ------------- 251.4/390.3 MB 10.6 MB/s eta 0:00:14\n",
      "   ------------------------- ------------- 253.0/390.3 MB 10.6 MB/s eta 0:00:13\n",
      "   ------------------------- ------------- 256.4/390.3 MB 10.6 MB/s eta 0:00:13\n",
      "   ------------------------- ------------- 258.5/390.3 MB 10.6 MB/s eta 0:00:13\n",
      "   -------------------------- ------------ 261.4/390.3 MB 10.7 MB/s eta 0:00:13\n",
      "   -------------------------- ------------ 262.9/390.3 MB 10.7 MB/s eta 0:00:12\n",
      "   -------------------------- ------------ 265.0/390.3 MB 10.7 MB/s eta 0:00:12\n",
      "   -------------------------- ------------ 267.4/390.3 MB 10.7 MB/s eta 0:00:12\n",
      "   -------------------------- ------------ 269.7/390.3 MB 10.7 MB/s eta 0:00:12\n",
      "   --------------------------- ----------- 272.4/390.3 MB 10.7 MB/s eta 0:00:11\n",
      "   --------------------------- ----------- 273.9/390.3 MB 10.7 MB/s eta 0:00:11\n",
      "   --------------------------- ----------- 277.3/390.3 MB 10.7 MB/s eta 0:00:11\n",
      "   --------------------------- ----------- 279.2/390.3 MB 10.7 MB/s eta 0:00:11\n",
      "   ---------------------------- ---------- 282.3/390.3 MB 10.7 MB/s eta 0:00:11\n",
      "   ---------------------------- ---------- 284.4/390.3 MB 10.7 MB/s eta 0:00:10\n",
      "   ---------------------------- ---------- 287.0/390.3 MB 10.7 MB/s eta 0:00:10\n",
      "   ---------------------------- ---------- 289.4/390.3 MB 10.7 MB/s eta 0:00:10\n",
      "   ----------------------------- --------- 292.0/390.3 MB 10.8 MB/s eta 0:00:10\n",
      "   ----------------------------- --------- 294.4/390.3 MB 10.8 MB/s eta 0:00:09\n",
      "   ----------------------------- --------- 296.7/390.3 MB 10.8 MB/s eta 0:00:09\n",
      "   ----------------------------- --------- 299.4/390.3 MB 10.8 MB/s eta 0:00:09\n",
      "   ------------------------------ -------- 301.7/390.3 MB 10.8 MB/s eta 0:00:09\n",
      "   ------------------------------ -------- 304.1/390.3 MB 10.8 MB/s eta 0:00:08\n",
      "   ------------------------------ -------- 305.4/390.3 MB 10.8 MB/s eta 0:00:08\n",
      "   ------------------------------ -------- 308.8/390.3 MB 10.8 MB/s eta 0:00:08\n",
      "   ------------------------------- ------- 310.9/390.3 MB 10.8 MB/s eta 0:00:08\n",
      "   ------------------------------- ------- 313.8/390.3 MB 10.8 MB/s eta 0:00:08\n",
      "   ------------------------------- ------- 316.4/390.3 MB 10.8 MB/s eta 0:00:07\n",
      "   ------------------------------- ------- 318.8/390.3 MB 10.8 MB/s eta 0:00:07\n",
      "   -------------------------------- ------ 321.1/390.3 MB 10.8 MB/s eta 0:00:07\n",
      "   -------------------------------- ------ 322.7/390.3 MB 10.8 MB/s eta 0:00:07\n",
      "   -------------------------------- ------ 325.1/390.3 MB 10.8 MB/s eta 0:00:07\n",
      "   -------------------------------- ------ 326.6/390.3 MB 10.8 MB/s eta 0:00:06\n",
      "   -------------------------------- ------ 329.8/390.3 MB 10.8 MB/s eta 0:00:06\n",
      "   --------------------------------- ----- 331.4/390.3 MB 10.8 MB/s eta 0:00:06\n",
      "   --------------------------------- ----- 335.0/390.3 MB 10.8 MB/s eta 0:00:06\n",
      "   --------------------------------- ----- 336.6/390.3 MB 10.8 MB/s eta 0:00:05\n",
      "   --------------------------------- ----- 339.7/390.3 MB 10.8 MB/s eta 0:00:05\n",
      "   ---------------------------------- ---- 342.1/390.3 MB 10.8 MB/s eta 0:00:05\n",
      "   ---------------------------------- ---- 344.5/390.3 MB 10.8 MB/s eta 0:00:05\n",
      "   ---------------------------------- ---- 346.8/390.3 MB 10.8 MB/s eta 0:00:05\n",
      "   ---------------------------------- ---- 349.2/390.3 MB 10.8 MB/s eta 0:00:04\n",
      "   ----------------------------------- --- 351.8/390.3 MB 10.8 MB/s eta 0:00:04\n",
      "   ----------------------------------- --- 354.4/390.3 MB 10.8 MB/s eta 0:00:04\n",
      "   ----------------------------------- --- 356.8/390.3 MB 10.8 MB/s eta 0:00:04\n",
      "   ----------------------------------- --- 358.4/390.3 MB 10.9 MB/s eta 0:00:03\n",
      "   ------------------------------------ -- 361.8/390.3 MB 10.9 MB/s eta 0:00:03\n",
      "   ------------------------------------ -- 363.6/390.3 MB 10.9 MB/s eta 0:00:03\n",
      "   ------------------------------------ -- 367.0/390.3 MB 11.0 MB/s eta 0:00:03\n",
      "   ------------------------------------ -- 369.1/390.3 MB 11.0 MB/s eta 0:00:02\n",
      "   ------------------------------------ -- 369.1/390.3 MB 11.0 MB/s eta 0:00:02\n",
      "   ------------------------------------- - 370.4/390.3 MB 10.8 MB/s eta 0:00:02\n",
      "   ------------------------------------- - 373.0/390.3 MB 11.0 MB/s eta 0:00:02\n",
      "   ------------------------------------- - 375.4/390.3 MB 11.0 MB/s eta 0:00:02\n",
      "   ------------------------------------- - 377.0/390.3 MB 11.0 MB/s eta 0:00:02\n",
      "   ------------------------------------- - 380.1/390.3 MB 11.0 MB/s eta 0:00:01\n",
      "   --------------------------------------  381.9/390.3 MB 11.0 MB/s eta 0:00:01\n",
      "   --------------------------------------  385.1/390.3 MB 11.0 MB/s eta 0:00:01\n",
      "   --------------------------------------  387.4/390.3 MB 11.0 MB/s eta 0:00:01\n",
      "   --------------------------------------  389.8/390.3 MB 11.0 MB/s eta 0:00:01\n",
      "   --------------------------------------  390.1/390.3 MB 11.0 MB/s eta 0:00:01\n",
      "   --------------------------------------  390.1/390.3 MB 11.0 MB/s eta 0:00:01\n",
      "   --------------------------------------  390.1/390.3 MB 11.0 MB/s eta 0:00:01\n",
      "   --------------------------------------  390.1/390.3 MB 11.0 MB/s eta 0:00:01\n",
      "   --------------------------------------  390.1/390.3 MB 11.0 MB/s eta 0:00:01\n",
      "   --------------------------------------  390.1/390.3 MB 11.0 MB/s eta 0:00:01\n",
      "   --------------------------------------- 390.3/390.3 MB 10.4 MB/s eta 0:00:00\n",
      "Downloading absl_py-2.1.0-py3-none-any.whl (133 kB)\n",
      "Downloading astunparse-1.6.3-py2.py3-none-any.whl (12 kB)\n",
      "Downloading flatbuffers-24.3.25-py2.py3-none-any.whl (26 kB)\n",
      "Downloading gast-0.6.0-py3-none-any.whl (21 kB)\n",
      "Downloading google_pasta-0.2.0-py3-none-any.whl (57 kB)\n",
      "Downloading grpcio-1.68.1-cp312-cp312-win_amd64.whl (4.4 MB)\n",
      "   ---------------------------------------- 0.0/4.4 MB ? eta -:--:--\n",
      "   --------------------- ------------------ 2.4/4.4 MB 11.2 MB/s eta 0:00:01\n",
      "   ---------------------------------------- 4.4/4.4 MB 11.0 MB/s eta 0:00:00\n",
      "Downloading h5py-3.12.1-cp312-cp312-win_amd64.whl (3.0 MB)\n",
      "   ---------------------------------------- 0.0/3.0 MB ? eta -:--:--\n",
      "   ------------------------ --------------- 1.8/3.0 MB 11.2 MB/s eta 0:00:01\n",
      "   ---------------------------------------- 3.0/3.0 MB 10.3 MB/s eta 0:00:00\n",
      "Downloading keras-3.7.0-py3-none-any.whl (1.2 MB)\n",
      "   ---------------------------------------- 0.0/1.2 MB ? eta -:--:--\n",
      "   ---------------------------------------- 1.2/1.2 MB 10.4 MB/s eta 0:00:00\n",
      "Downloading libclang-18.1.1-py2.py3-none-win_amd64.whl (26.4 MB)\n",
      "   ---------------------------------------- 0.0/26.4 MB ? eta -:--:--\n",
      "   --- ------------------------------------ 2.4/26.4 MB 12.2 MB/s eta 0:00:02\n",
      "   ------- -------------------------------- 4.7/26.4 MB 11.9 MB/s eta 0:00:02\n",
      "   --------- ------------------------------ 6.3/26.4 MB 10.2 MB/s eta 0:00:02\n",
      "   -------------- ------------------------- 9.7/26.4 MB 11.8 MB/s eta 0:00:02\n",
      "   ----------------- ---------------------- 11.3/26.4 MB 11.0 MB/s eta 0:00:02\n",
      "   --------------------- ------------------ 14.2/26.4 MB 11.5 MB/s eta 0:00:02\n",
      "   ------------------------- -------------- 16.8/26.4 MB 11.6 MB/s eta 0:00:01\n",
      "   --------------------------- ------------ 18.4/26.4 MB 11.1 MB/s eta 0:00:01\n",
      "   -------------------------------- ------- 21.5/26.4 MB 11.6 MB/s eta 0:00:01\n",
      "   ----------------------------------- ---- 23.6/26.4 MB 11.7 MB/s eta 0:00:01\n",
      "   ---------------------------------------  26.2/26.4 MB 11.7 MB/s eta 0:00:01\n",
      "   ---------------------------------------- 26.4/26.4 MB 11.3 MB/s eta 0:00:00\n",
      "Downloading ml_dtypes-0.4.1-cp312-cp312-win_amd64.whl (127 kB)\n",
      "Downloading opt_einsum-3.4.0-py3-none-any.whl (71 kB)\n",
      "Downloading tensorboard-2.18.0-py3-none-any.whl (5.5 MB)\n",
      "   ---------------------------------------- 0.0/5.5 MB ? eta -:--:--\n",
      "   ----------------- ---------------------- 2.4/5.5 MB 11.2 MB/s eta 0:00:01\n",
      "   ------------------------------------ --- 5.0/5.5 MB 11.6 MB/s eta 0:00:01\n",
      "   ---------------------------------------- 5.5/5.5 MB 11.2 MB/s eta 0:00:00\n",
      "Downloading termcolor-2.5.0-py3-none-any.whl (7.8 kB)\n",
      "Downloading wrapt-1.17.0-cp312-cp312-win_amd64.whl (38 kB)\n",
      "Downloading Markdown-3.7-py3-none-any.whl (106 kB)\n",
      "Downloading tensorboard_data_server-0.7.2-py3-none-any.whl (2.4 kB)\n",
      "Downloading werkzeug-3.1.3-py3-none-any.whl (224 kB)\n",
      "Downloading wheel-0.45.1-py3-none-any.whl (72 kB)\n",
      "Downloading namex-0.0.8-py3-none-any.whl (5.8 kB)\n",
      "Downloading optree-0.13.1-cp312-cp312-win_amd64.whl (292 kB)\n",
      "Installing collected packages: namex, libclang, flatbuffers, wrapt, wheel, werkzeug, termcolor, tensorboard-data-server, optree, opt-einsum, ml-dtypes, markdown, h5py, grpcio, google-pasta, gast, absl-py, tensorboard, astunparse, keras, tensorflow-intel, tensorflow\n",
      "Successfully installed absl-py-2.1.0 astunparse-1.6.3 flatbuffers-24.3.25 gast-0.6.0 google-pasta-0.2.0 grpcio-1.68.1 h5py-3.12.1 keras-3.7.0 libclang-18.1.1 markdown-3.7 ml-dtypes-0.4.1 namex-0.0.8 opt-einsum-3.4.0 optree-0.13.1 tensorboard-2.18.0 tensorboard-data-server-0.7.2 tensorflow-2.18.0 tensorflow-intel-2.18.0 termcolor-2.5.0 werkzeug-3.1.3 wheel-0.45.1 wrapt-1.17.0\n"
     ]
    }
   ],
   "source": [
    "!pip install tensorflow"
   ]
  },
  {
   "cell_type": "code",
   "execution_count": 22,
   "id": "2f21cae2-a4c9-427f-8b01-66555595c70f",
   "metadata": {},
   "outputs": [
    {
     "name": "stdout",
     "output_type": "stream",
     "text": [
      "Collecting opencv-python\n",
      "  Downloading opencv_python-4.10.0.84-cp37-abi3-win_amd64.whl.metadata (20 kB)\n",
      "Requirement already satisfied: numpy>=1.21.2 in c:\\users\\shubh\\appdata\\local\\programs\\python\\python312\\lib\\site-packages (from opencv-python) (1.26.4)\n",
      "Downloading opencv_python-4.10.0.84-cp37-abi3-win_amd64.whl (38.8 MB)\n",
      "   ---------------------------------------- 0.0/38.8 MB ? eta -:--:--\n",
      "    --------------------------------------- 0.5/38.8 MB 4.2 MB/s eta 0:00:10\n",
      "   - -------------------------------------- 1.8/38.8 MB 6.3 MB/s eta 0:00:06\n",
      "   --- ------------------------------------ 3.1/38.8 MB 6.8 MB/s eta 0:00:06\n",
      "   ---- ----------------------------------- 4.5/38.8 MB 6.0 MB/s eta 0:00:06\n",
      "   ------ --------------------------------- 6.3/38.8 MB 6.8 MB/s eta 0:00:05\n",
      "   -------- ------------------------------- 8.7/38.8 MB 7.7 MB/s eta 0:00:04\n",
      "   ----------- ---------------------------- 11.3/38.8 MB 8.4 MB/s eta 0:00:04\n",
      "   -------------- ------------------------- 13.6/38.8 MB 8.8 MB/s eta 0:00:03\n",
      "   --------------- ------------------------ 15.5/38.8 MB 8.7 MB/s eta 0:00:03\n",
      "   ------------------ --------------------- 17.8/38.8 MB 9.0 MB/s eta 0:00:03\n",
      "   -------------------- ------------------- 19.7/38.8 MB 9.0 MB/s eta 0:00:03\n",
      "   ---------------------- ----------------- 21.5/38.8 MB 9.1 MB/s eta 0:00:02\n",
      "   ------------------------ --------------- 23.6/38.8 MB 9.1 MB/s eta 0:00:02\n",
      "   -------------------------- ------------- 26.0/38.8 MB 9.1 MB/s eta 0:00:02\n",
      "   ---------------------------- ----------- 28.0/38.8 MB 9.2 MB/s eta 0:00:02\n",
      "   ------------------------------- -------- 30.1/38.8 MB 9.3 MB/s eta 0:00:01\n",
      "   --------------------------------- ------ 32.5/38.8 MB 9.3 MB/s eta 0:00:01\n",
      "   ----------------------------------- ---- 34.6/38.8 MB 9.4 MB/s eta 0:00:01\n",
      "   ------------------------------------- -- 36.7/38.8 MB 9.4 MB/s eta 0:00:01\n",
      "   ---------------------------------------  38.8/38.8 MB 9.5 MB/s eta 0:00:01\n",
      "   ---------------------------------------- 38.8/38.8 MB 9.2 MB/s eta 0:00:00\n",
      "Installing collected packages: opencv-python\n",
      "Successfully installed opencv-python-4.10.0.84\n"
     ]
    }
   ],
   "source": [
    "!pip install opencv-python\n"
   ]
  },
  {
   "cell_type": "code",
   "execution_count": 25,
   "id": "24669e9d-5318-4ab4-919c-7f16e9d59565",
   "metadata": {},
   "outputs": [],
   "source": [
    "import numpy as np\n",
    "import matplotlib.pyplot as plt\n"
   ]
  },
  {
   "cell_type": "code",
   "execution_count": 3,
   "id": "35356ba4-ba4e-45a0-85b5-4be48e3081d0",
   "metadata": {},
   "outputs": [],
   "source": [
    "import tensorflow as tf\n",
    "from tensorflow.keras.models import Sequential\n",
    "from tensorflow.keras.layers import Conv2D, MaxPooling2D, Flatten, Dense, Dropout"
   ]
  },
  {
   "cell_type": "code",
   "execution_count": 27,
   "id": "5b033f4f-cbac-4158-afb8-539c9ab0a69e",
   "metadata": {},
   "outputs": [],
   "source": [
    "import os"
   ]
  },
  {
   "cell_type": "code",
   "execution_count": null,
   "id": "fdf57c8b-37f3-4202-9d15-6ab9da023032",
   "metadata": {},
   "outputs": [],
   "source": [
    "gpus = tf.config.list_physical_devices('GPU')\n",
    "if gpus:\n",
    "    print(\"GPU is available\")\n",
    "    for gpu in gpus:\n",
    "        tf.config.experimental.set_memory_growth(gpu, True)\n",
    "else:\n",
    "    print(\"GPU is not available\")"
   ]
  },
  {
   "cell_type": "code",
   "execution_count": null,
   "id": "6b5dd1e4-3e5d-4ea0-9d26-122a878194e0",
   "metadata": {},
   "outputs": [],
   "source": [
    "tf.config.list_physical_devices('GPU')"
   ]
  },
  {
   "cell_type": "code",
   "execution_count": 28,
   "id": "ad193869-ee0e-4b84-bb47-1035d9361193",
   "metadata": {},
   "outputs": [
    {
     "name": "stderr",
     "output_type": "stream",
     "text": [
      "C:\\Users\\Shubh\\AppData\\Local\\Temp\\ipykernel_14708\\4232469594.py:2: DeprecationWarning: 'imghdr' is deprecated and slated for removal in Python 3.13\n",
      "  import imghdr\n"
     ]
    }
   ],
   "source": [
    "import cv2\n",
    "import imghdr"
   ]
  },
  {
   "cell_type": "code",
   "execution_count": null,
   "id": "bc6d5947-8c20-4266-81b9-bb2cf11201de",
   "metadata": {},
   "outputs": [],
   "source": [
    "\n",
    "data_dir = 'data' \n",
    "image_exts = ['jpeg','jpg', 'bmp', 'png']"
   ]
  },
  {
   "cell_type": "code",
   "execution_count": null,
   "id": "8bd17a6a-c93d-43c8-91c2-a69676b936ea",
   "metadata": {},
   "outputs": [],
   "source": [
    "for image_class in os.listdir(data_dir): \n",
    "    for image in os.listdir(os.path.join(data_dir, image_class)):\n",
    "        image_path = os.path.join(data_dir, image_class, image)\n",
    "        try: \n",
    "            img = cv2.imread(image_path)\n",
    "            tip = imghdr.what(image_path)\n",
    "            if tip not in image_exts: \n",
    "                print('Image not in ext list {}'.format(image_path))\n",
    "                os.remove(image_path)\n",
    "        except Exception as e: \n",
    "            print('Issue with image {}'.format(image_path))"
   ]
  },
  {
   "cell_type": "code",
   "execution_count": null,
   "id": "bbc01a79-de20-40bf-9838-182d099323f2",
   "metadata": {},
   "outputs": [],
   "source": []
  },
  {
   "cell_type": "markdown",
   "id": "38f0e156-ac38-496f-9bc9-cddaede68095",
   "metadata": {},
   "source": [
    "### Load Data"
   ]
  },
  {
   "cell_type": "code",
   "execution_count": null,
   "id": "89351677-798c-416e-96c8-3e98bf030ce9",
   "metadata": {},
   "outputs": [],
   "source": [
    "import numpy as np\n",
    "from matplotlib import pyplot as plt"
   ]
  },
  {
   "cell_type": "code",
   "execution_count": null,
   "id": "677ed456-6aa9-40b1-ac1a-255f1dd26c58",
   "metadata": {},
   "outputs": [],
   "source": [
    "data = tf.keras.utils.image_dataset_from_directory('data')"
   ]
  },
  {
   "cell_type": "code",
   "execution_count": null,
   "id": "c5096a14-1107-4b66-8f08-0a9d142103e3",
   "metadata": {},
   "outputs": [],
   "source": [
    "data_iterator = data.as_numpy_iterator()"
   ]
  },
  {
   "cell_type": "code",
   "execution_count": null,
   "id": "894e9ba0-c85f-4c9c-b610-b94e3547eaec",
   "metadata": {},
   "outputs": [],
   "source": [
    "batch = data_iterator.next()"
   ]
  },
  {
   "cell_type": "code",
   "execution_count": null,
   "id": "87d19c9b-6463-4a2d-9d31-96d2fb512599",
   "metadata": {},
   "outputs": [],
   "source": [
    "fig, ax = plt.subplots(ncols=4, figsize=(20,20))\n",
    "for idx, img in enumerate(batch[0][:4]):\n",
    "    ax[idx].imshow(img.astype(int))\n",
    "    ax[idx].title.set_text(batch[1][idx])"
   ]
  },
  {
   "cell_type": "markdown",
   "id": "c730bb6b-1276-42ff-85fa-83b2717fee2d",
   "metadata": {},
   "source": [
    "### Sccale Data"
   ]
  },
  {
   "cell_type": "code",
   "execution_count": null,
   "id": "b0c308e6-39dd-438c-a2db-e02255e63319",
   "metadata": {},
   "outputs": [],
   "source": [
    "data = data.map(lambda x,y: (x/255, y))\n"
   ]
  },
  {
   "cell_type": "code",
   "execution_count": null,
   "id": "8e021085-fb88-45e4-9637-d25db3847237",
   "metadata": {},
   "outputs": [],
   "source": [
    "data.as_numpy_iterator().next()"
   ]
  },
  {
   "cell_type": "markdown",
   "id": "1e40ebd4-4013-42ab-8c58-4f09815b8f78",
   "metadata": {},
   "source": [
    "### Split Data"
   ]
  },
  {
   "cell_type": "code",
   "execution_count": null,
   "id": "49fe33e2-3cd8-4377-8a4b-2178dc1206c7",
   "metadata": {},
   "outputs": [],
   "source": [
    "\n",
    "train_size = int(len(data)*.7)\n",
    "val_size = int(len(data)*.2)\n",
    "test_size = int(len(data)*.1)"
   ]
  },
  {
   "cell_type": "code",
   "execution_count": null,
   "id": "943652a3-517f-49e6-9b88-06a55ed0e7f1",
   "metadata": {},
   "outputs": [],
   "source": [
    "train_size\n"
   ]
  },
  {
   "cell_type": "code",
   "execution_count": null,
   "id": "4a017350-b36d-4401-8693-26e3e88e51e1",
   "metadata": {},
   "outputs": [],
   "source": [
    "train = data.take(train_size)\n",
    "val = data.skip(train_size).take(val_size)\n",
    "test = data.skip(train_size+val_size).take(test_size)"
   ]
  },
  {
   "cell_type": "code",
   "execution_count": null,
   "id": "27e07167-9cc4-4b15-8af0-48e8dad508f1",
   "metadata": {},
   "outputs": [],
   "source": []
  },
  {
   "cell_type": "markdown",
   "id": "3431a434-9961-49bb-b66f-7058b3e62b8c",
   "metadata": {},
   "source": [
    "### DL Model"
   ]
  },
  {
   "cell_type": "code",
   "execution_count": 4,
   "id": "ad4ac308-f00f-4699-b41a-09e4912a070f",
   "metadata": {},
   "outputs": [],
   "source": [
    "model = Sequential()"
   ]
  },
  {
   "cell_type": "code",
   "execution_count": 7,
   "id": "904c76a5-6623-469c-bb02-08e0f911fac4",
   "metadata": {},
   "outputs": [],
   "source": [
    "model.add(Conv2D(16, (3,3), activation='relu', input_shape=(224, 224, 3)))\n",
    "model.add(MaxPooling2D())\n",
    "\n",
    "model.add(Conv2D(32, (3,3), activation='relu'))\n",
    "model.add(MaxPooling2D())\n",
    "\n",
    "model.add(Conv2D(16, (3,3), activation='relu'))\n",
    "model.add(MaxPooling2D())\n",
    "\n",
    "model.add(Flatten())\n",
    "\n",
    "model.add(Dense(128, activation='relu'))\n",
    "model.add(Dropout(0.5))\n",
    "model.add(Dense(1, activation='sigmoid'))\n",
    "\n",
    "model.compile(optimizer='adam', loss='binary_crossentropy', metrics=['accuracy'])"
   ]
  },
  {
   "cell_type": "code",
   "execution_count": 9,
   "id": "1bb3f4a1-5637-4152-86da-29a673aa23e4",
   "metadata": {},
   "outputs": [],
   "source": [
    "model.compile('adam', loss = tf.losses.BinaryCrossentropy(), metrics = ['accuracy']) "
   ]
  },
  {
   "cell_type": "code",
   "execution_count": 10,
   "id": "1e6990c1-d131-4c19-82af-ca5c54512851",
   "metadata": {
    "scrolled": true
   },
   "outputs": [
    {
     "data": {
      "text/html": [
       "<pre style=\"white-space:pre;overflow-x:auto;line-height:normal;font-family:Menlo,'DejaVu Sans Mono',consolas,'Courier New',monospace\"><span style=\"font-weight: bold\">Model: \"sequential\"</span>\n",
       "</pre>\n"
      ],
      "text/plain": [
       "\u001b[1mModel: \"sequential\"\u001b[0m\n"
      ]
     },
     "metadata": {},
     "output_type": "display_data"
    },
    {
     "data": {
      "text/html": [
       "<pre style=\"white-space:pre;overflow-x:auto;line-height:normal;font-family:Menlo,'DejaVu Sans Mono',consolas,'Courier New',monospace\">┏━━━━━━━━━━━━━━━━━━━━━━━━━━━━━━━┳━━━━━━━━━━━━━━━━━━━━━━━┳━━━━━━━━━━━━━━┓\n",
       "┃<span style=\"font-weight: bold\"> Layer (type)                  </span>┃<span style=\"font-weight: bold\"> Output Shape          </span>┃<span style=\"font-weight: bold\">      Param # </span>┃\n",
       "│ conv2d_2 (<span style=\"color: #0087ff; text-decoration-color: #0087ff\">Conv2D</span>)             │ (<span style=\"color: #00d7ff; text-decoration-color: #00d7ff\">None</span>, <span style=\"color: #00af00; text-decoration-color: #00af00\">124</span>, <span style=\"color: #00af00; text-decoration-color: #00af00\">124</span>, <span style=\"color: #00af00; text-decoration-color: #00af00\">32</span>)  │        <span style=\"color: #00af00; text-decoration-color: #00af00\">4,640</span> │\n",
       "├───────────────────────────────┼───────────────────────┼──────────────┤\n",
       "│ max_pooling2d_1               │ (<span style=\"color: #00d7ff; text-decoration-color: #00d7ff\">None</span>, <span style=\"color: #00af00; text-decoration-color: #00af00\">62</span>, <span style=\"color: #00af00; text-decoration-color: #00af00\">62</span>, <span style=\"color: #00af00; text-decoration-color: #00af00\">32</span>)    │            <span style=\"color: #00af00; text-decoration-color: #00af00\">0</span> │\n",
       "│ (<span style=\"color: #0087ff; text-decoration-color: #0087ff\">MaxPooling2D</span>)                │                       │              │\n",
       "├───────────────────────────────┼───────────────────────┼──────────────┤\n",
       "│ conv2d_3 (<span style=\"color: #0087ff; text-decoration-color: #0087ff\">Conv2D</span>)             │ (<span style=\"color: #00d7ff; text-decoration-color: #00d7ff\">None</span>, <span style=\"color: #00af00; text-decoration-color: #00af00\">60</span>, <span style=\"color: #00af00; text-decoration-color: #00af00\">60</span>, <span style=\"color: #00af00; text-decoration-color: #00af00\">16</span>)    │        <span style=\"color: #00af00; text-decoration-color: #00af00\">4,624</span> │\n",
       "├───────────────────────────────┼───────────────────────┼──────────────┤\n",
       "│ max_pooling2d_2               │ (<span style=\"color: #00d7ff; text-decoration-color: #00d7ff\">None</span>, <span style=\"color: #00af00; text-decoration-color: #00af00\">30</span>, <span style=\"color: #00af00; text-decoration-color: #00af00\">30</span>, <span style=\"color: #00af00; text-decoration-color: #00af00\">16</span>)    │            <span style=\"color: #00af00; text-decoration-color: #00af00\">0</span> │\n",
       "│ (<span style=\"color: #0087ff; text-decoration-color: #0087ff\">MaxPooling2D</span>)                │                       │              │\n",
       "├───────────────────────────────┼───────────────────────┼──────────────┤\n",
       "│ flatten (<span style=\"color: #0087ff; text-decoration-color: #0087ff\">Flatten</span>)             │ (<span style=\"color: #00d7ff; text-decoration-color: #00d7ff\">None</span>, <span style=\"color: #00af00; text-decoration-color: #00af00\">14400</span>)         │            <span style=\"color: #00af00; text-decoration-color: #00af00\">0</span> │\n",
       "├───────────────────────────────┼───────────────────────┼──────────────┤\n",
       "│ dense (<span style=\"color: #0087ff; text-decoration-color: #0087ff\">Dense</span>)                 │ (<span style=\"color: #00d7ff; text-decoration-color: #00d7ff\">None</span>, <span style=\"color: #00af00; text-decoration-color: #00af00\">256</span>)           │    <span style=\"color: #00af00; text-decoration-color: #00af00\">3,686,656</span> │\n",
       "├───────────────────────────────┼───────────────────────┼──────────────┤\n",
       "│ dense_1 (<span style=\"color: #0087ff; text-decoration-color: #0087ff\">Dense</span>)               │ (<span style=\"color: #00d7ff; text-decoration-color: #00d7ff\">None</span>, <span style=\"color: #00af00; text-decoration-color: #00af00\">1</span>)             │          <span style=\"color: #00af00; text-decoration-color: #00af00\">257</span> │\n",
       "└───────────────────────────────┴───────────────────────┴──────────────┘\n",
       "</pre>\n"
      ],
      "text/plain": [
       "┏━━━━━━━━━━━━━━━━━━━━━━━━━━━━━━━┳━━━━━━━━━━━━━━━━━━━━━━━┳━━━━━━━━━━━━━━┓\n",
       "┃\u001b[1m \u001b[0m\u001b[1mLayer (type)                 \u001b[0m\u001b[1m \u001b[0m┃\u001b[1m \u001b[0m\u001b[1mOutput Shape         \u001b[0m\u001b[1m \u001b[0m┃\u001b[1m \u001b[0m\u001b[1m     Param #\u001b[0m\u001b[1m \u001b[0m┃\n",
       "┡━━━━━━━━━━━━━━━━━━━━━━━━━━━━━━━╇━━━━━━━━━━━━━━━━━━━━━━━╇━━━━━━━━━━━━━━┩\n",
       "│ conv2d (\u001b[38;5;33mConv2D\u001b[0m)               │ (\u001b[38;5;45mNone\u001b[0m, \u001b[38;5;34m254\u001b[0m, \u001b[38;5;34m254\u001b[0m, \u001b[38;5;34m16\u001b[0m)  │          \u001b[38;5;34m448\u001b[0m │\n",
       "├───────────────────────────────┼───────────────────────┼──────────────┤\n",
       "│ conv2d_1 (\u001b[38;5;33mConv2D\u001b[0m)             │ (\u001b[38;5;45mNone\u001b[0m, \u001b[38;5;34m252\u001b[0m, \u001b[38;5;34m252\u001b[0m, \u001b[38;5;34m16\u001b[0m)  │        \u001b[38;5;34m2,320\u001b[0m │\n",
       "├───────────────────────────────┼───────────────────────┼──────────────┤\n",
       "│ max_pooling2d (\u001b[38;5;33mMaxPooling2D\u001b[0m)  │ (\u001b[38;5;45mNone\u001b[0m, \u001b[38;5;34m126\u001b[0m, \u001b[38;5;34m126\u001b[0m, \u001b[38;5;34m16\u001b[0m)  │            \u001b[38;5;34m0\u001b[0m │\n",
       "├───────────────────────────────┼───────────────────────┼──────────────┤\n",
       "│ conv2d_2 (\u001b[38;5;33mConv2D\u001b[0m)             │ (\u001b[38;5;45mNone\u001b[0m, \u001b[38;5;34m124\u001b[0m, \u001b[38;5;34m124\u001b[0m, \u001b[38;5;34m32\u001b[0m)  │        \u001b[38;5;34m4,640\u001b[0m │\n",
       "├───────────────────────────────┼───────────────────────┼──────────────┤\n",
       "│ max_pooling2d_1               │ (\u001b[38;5;45mNone\u001b[0m, \u001b[38;5;34m62\u001b[0m, \u001b[38;5;34m62\u001b[0m, \u001b[38;5;34m32\u001b[0m)    │            \u001b[38;5;34m0\u001b[0m │\n",
       "│ (\u001b[38;5;33mMaxPooling2D\u001b[0m)                │                       │              │\n",
       "├───────────────────────────────┼───────────────────────┼──────────────┤\n",
       "│ conv2d_3 (\u001b[38;5;33mConv2D\u001b[0m)             │ (\u001b[38;5;45mNone\u001b[0m, \u001b[38;5;34m60\u001b[0m, \u001b[38;5;34m60\u001b[0m, \u001b[38;5;34m16\u001b[0m)    │        \u001b[38;5;34m4,624\u001b[0m │\n",
       "├───────────────────────────────┼───────────────────────┼──────────────┤\n",
       "│ max_pooling2d_2               │ (\u001b[38;5;45mNone\u001b[0m, \u001b[38;5;34m30\u001b[0m, \u001b[38;5;34m30\u001b[0m, \u001b[38;5;34m16\u001b[0m)    │            \u001b[38;5;34m0\u001b[0m │\n",
       "│ (\u001b[38;5;33mMaxPooling2D\u001b[0m)                │                       │              │\n",
       "├───────────────────────────────┼───────────────────────┼──────────────┤\n",
       "│ flatten (\u001b[38;5;33mFlatten\u001b[0m)             │ (\u001b[38;5;45mNone\u001b[0m, \u001b[38;5;34m14400\u001b[0m)         │            \u001b[38;5;34m0\u001b[0m │\n",
       "├───────────────────────────────┼───────────────────────┼──────────────┤\n",
       "│ dense (\u001b[38;5;33mDense\u001b[0m)                 │ (\u001b[38;5;45mNone\u001b[0m, \u001b[38;5;34m256\u001b[0m)           │    \u001b[38;5;34m3,686,656\u001b[0m │\n",
       "├───────────────────────────────┼───────────────────────┼──────────────┤\n",
       "│ dense_1 (\u001b[38;5;33mDense\u001b[0m)               │ (\u001b[38;5;45mNone\u001b[0m, \u001b[38;5;34m1\u001b[0m)             │          \u001b[38;5;34m257\u001b[0m │\n",
       "└───────────────────────────────┴───────────────────────┴──────────────┘\n"
      ]
     },
     "metadata": {},
     "output_type": "display_data"
    },
    {
     "data": {
      "text/html": [
       "<pre style=\"white-space:pre;overflow-x:auto;line-height:normal;font-family:Menlo,'DejaVu Sans Mono',consolas,'Courier New',monospace\"><span style=\"font-weight: bold\"> Total params: </span><span style=\"color: #00af00; text-decoration-color: #00af00\">3,698,945</span> (14.11 MB)\n",
       "</pre>\n"
      ],
      "text/plain": [
       "\u001b[1m Total params: \u001b[0m\u001b[38;5;34m3,698,945\u001b[0m (14.11 MB)\n"
      ]
     },
     "metadata": {},
     "output_type": "display_data"
    },
    {
     "data": {
      "text/html": [
       "<pre style=\"white-space:pre;overflow-x:auto;line-height:normal;font-family:Menlo,'DejaVu Sans Mono',consolas,'Courier New',monospace\"><span style=\"font-weight: bold\"> Trainable params: </span><span style=\"color: #00af00; text-decoration-color: #00af00\">3,698,945</span> (14.11 MB)\n",
       "</pre>\n"
      ],
      "text/plain": [
       "\u001b[1m Trainable params: \u001b[0m\u001b[38;5;34m3,698,945\u001b[0m (14.11 MB)\n"
      ]
     },
     "metadata": {},
     "output_type": "display_data"
    },
    {
     "data": {
      "text/html": [
       "<pre style=\"white-space:pre;overflow-x:auto;line-height:normal;font-family:Menlo,'DejaVu Sans Mono',consolas,'Courier New',monospace\"><span style=\"font-weight: bold\"> Non-trainable params: </span><span style=\"color: #00af00; text-decoration-color: #00af00\">0</span> (0.00 B)\n",
       "</pre>\n"
      ],
      "text/plain": [
       "\u001b[1m Non-trainable params: \u001b[0m\u001b[38;5;34m0\u001b[0m (0.00 B)\n"
      ]
     },
     "metadata": {},
     "output_type": "display_data"
    }
   ],
   "source": [
    "model.summary()"
   ]
  },
  {
   "cell_type": "code",
   "execution_count": null,
   "id": "41e1ad68-f74b-4cd9-9544-e38d33b116a2",
   "metadata": {},
   "outputs": [],
   "source": []
  },
  {
   "cell_type": "markdown",
   "id": "764f022f-2fcb-4a01-a595-b89f65f33918",
   "metadata": {},
   "source": [
    "### Train"
   ]
  },
  {
   "cell_type": "code",
   "execution_count": 11,
   "id": "1bcbae5f-bc19-477c-a35a-525e5c8ec2fd",
   "metadata": {},
   "outputs": [],
   "source": [
    "logdir = 'logs'"
   ]
  },
  {
   "cell_type": "code",
   "execution_count": 12,
   "id": "0db840cb-3675-484b-98ac-e1a403cc24fa",
   "metadata": {},
   "outputs": [],
   "source": [
    "tensorboard_callbacl = tf.keras.callbacks.TensorBoard(log_dir = logdir)"
   ]
  },
  {
   "cell_type": "code",
   "execution_count": 13,
   "id": "b6a6edd0-2f6c-4891-9d90-6a06b9ffbf06",
   "metadata": {},
   "outputs": [
    {
     "ename": "NameError",
     "evalue": "name 'train' is not defined",
     "output_type": "error",
     "traceback": [
      "\u001b[1;31m---------------------------------------------------------------------------\u001b[0m",
      "\u001b[1;31mNameError\u001b[0m                                 Traceback (most recent call last)",
      "Cell \u001b[1;32mIn[13], line 1\u001b[0m\n\u001b[1;32m----> 1\u001b[0m hist \u001b[38;5;241m=\u001b[39m model\u001b[38;5;241m.\u001b[39mfit(\u001b[43mtrain\u001b[49m, epochs \u001b[38;5;241m=\u001b[39m \u001b[38;5;241m20\u001b[39m, validation_data \u001b[38;5;241m=\u001b[39m val, callbacks \u001b[38;5;241m=\u001b[39m [tensorboard_callback])\n",
      "\u001b[1;31mNameError\u001b[0m: name 'train' is not defined"
     ]
    }
   ],
   "source": [
    "hist = model.fit(train, epochs = 20, validation_data = val, callbacks = [tensorboard_callback])"
   ]
  },
  {
   "cell_type": "code",
   "execution_count": null,
   "id": "086571e9-3140-414a-b0a5-09010f5bd0ba",
   "metadata": {},
   "outputs": [],
   "source": []
  },
  {
   "cell_type": "markdown",
   "id": "49821cec-dc1c-4e48-82dd-dce9d15a0e43",
   "metadata": {},
   "source": [
    "### Evaluation"
   ]
  },
  {
   "cell_type": "code",
   "execution_count": 14,
   "id": "b66e9022-757d-40d2-b150-ce1b956eb92e",
   "metadata": {},
   "outputs": [],
   "source": [
    "from tensorflow.keras.metrics import Precision, Recall, BinaryAccuracy"
   ]
  },
  {
   "cell_type": "code",
   "execution_count": 15,
   "id": "9ca81f2a-afd6-4f37-ab04-4f8ca04b5a40",
   "metadata": {},
   "outputs": [],
   "source": [
    "pre = Precision()\n",
    "re = Recall()\n",
    "acc = BinaryAccuracy()"
   ]
  },
  {
   "cell_type": "code",
   "execution_count": 16,
   "id": "fa9c75b1-3d9c-4b85-ad7b-8164d7ca822d",
   "metadata": {},
   "outputs": [
    {
     "ename": "NameError",
     "evalue": "name 'test' is not defined",
     "output_type": "error",
     "traceback": [
      "\u001b[1;31m---------------------------------------------------------------------------\u001b[0m",
      "\u001b[1;31mNameError\u001b[0m                                 Traceback (most recent call last)",
      "Cell \u001b[1;32mIn[16], line 1\u001b[0m\n\u001b[1;32m----> 1\u001b[0m \u001b[38;5;28;01mfor\u001b[39;00m batch \u001b[38;5;129;01min\u001b[39;00m \u001b[43mtest\u001b[49m\u001b[38;5;241m.\u001b[39mas_numpy_iterator():\n\u001b[0;32m      2\u001b[0m     X, y \u001b[38;5;241m=\u001b[39m batch\n\u001b[0;32m      3\u001b[0m     yhat \u001b[38;5;241m=\u001b[39m model\u001b[38;5;241m.\u001b[39mpredict(X)\n",
      "\u001b[1;31mNameError\u001b[0m: name 'test' is not defined"
     ]
    }
   ],
   "source": [
    "for batch in test.as_numpy_iterator():\n",
    "    X, y = batch\n",
    "    yhat = model.predict(X)\n",
    "    pre.update_state(y, yhat)\n",
    "    re.update_state(y, yhat)\n",
    "    acc.update_state(y, yhat)"
   ]
  },
  {
   "cell_type": "code",
   "execution_count": 18,
   "id": "68395302-6475-4c4f-94bd-0ff9e142add3",
   "metadata": {},
   "outputs": [
    {
     "name": "stdout",
     "output_type": "stream",
     "text": [
      "Precision: 0.0, Recall:0.0, Accuracy: 0.0\n"
     ]
    }
   ],
   "source": [
    "print(f'Precision: {pre.result().numpy()}, Recall:{re.result().numpy()}, Accuracy: {acc.result().numpy()}')"
   ]
  },
  {
   "cell_type": "markdown",
   "id": "525b2f4e-884f-4eef-95a9-c73101547eb1",
   "metadata": {},
   "source": [
    "### Test"
   ]
  },
  {
   "cell_type": "code",
   "execution_count": null,
   "id": "6ef446ec-bc07-4b14-af9a-6e62e757a0da",
   "metadata": {},
   "outputs": [],
   "source": [
    "img = cv2.imread('')\n",
    "plt.imshow(img)\n",
    "plt.show()"
   ]
  },
  {
   "cell_type": "code",
   "execution_count": null,
   "id": "f75a0ed6-d9f7-4dda-ba0f-35b84dd10542",
   "metadata": {},
   "outputs": [],
   "source": [
    "resize = tf.image.resize(img, (256, 256))\n",
    "plt.imshow(resize.numpy().astype(int))\n",
    "plt.show()"
   ]
  },
  {
   "cell_type": "code",
   "execution_count": 26,
   "id": "13c70424-99e4-492a-9045-4b2fd93f6e3b",
   "metadata": {},
   "outputs": [
    {
     "ename": "NameError",
     "evalue": "name 'resize' is not defined",
     "output_type": "error",
     "traceback": [
      "\u001b[1;31m---------------------------------------------------------------------------\u001b[0m",
      "\u001b[1;31mNameError\u001b[0m                                 Traceback (most recent call last)",
      "Cell \u001b[1;32mIn[26], line 1\u001b[0m\n\u001b[1;32m----> 1\u001b[0m yhat \u001b[38;5;241m=\u001b[39m model\u001b[38;5;241m.\u001b[39mpredict(np\u001b[38;5;241m.\u001b[39mexpand_dims(\u001b[43mresize\u001b[49m\u001b[38;5;241m/\u001b[39m\u001b[38;5;241m255\u001b[39m, \u001b[38;5;241m0\u001b[39m))\n",
      "\u001b[1;31mNameError\u001b[0m: name 'resize' is not defined"
     ]
    }
   ],
   "source": [
    "yhat = model.predict(np.expand_dims(resize/255, 0))"
   ]
  },
  {
   "cell_type": "code",
   "execution_count": null,
   "id": "639554be-6bbe-49f2-a1f5-9fc8a1d03a76",
   "metadata": {},
   "outputs": [],
   "source": [
    "yhat"
   ]
  }
 ],
 "metadata": {
  "kernelspec": {
   "display_name": "Python 3 (ipykernel)",
   "language": "python",
   "name": "python3"
  },
  "language_info": {
   "codemirror_mode": {
    "name": "ipython",
    "version": 3
   },
   "file_extension": ".py",
   "mimetype": "text/x-python",
   "name": "python",
   "nbconvert_exporter": "python",
   "pygments_lexer": "ipython3",
   "version": "3.12.2"
  }
 },
 "nbformat": 4,
 "nbformat_minor": 5
}
