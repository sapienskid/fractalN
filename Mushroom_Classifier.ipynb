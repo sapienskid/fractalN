{
  "cells": [
    {
      "cell_type": "markdown",
      "metadata": {
        "id": "setup_header"
      },
      "source": [
        "# Mushroom Classification with Deep Learning\n",
        "\n",
        "This notebook trains a mushroom classifier using the dataset from GitHub repository."
      ]
    },
    {
      "cell_type": "code",
      "execution_count": null,
      "metadata": {
        "id": "check_gpu"
      },
      "outputs": [],
      "source": [
        "# Verify GPU is available\n",
        "!nvidia-smi\n",
        "\n",
        "import tensorflow as tf\n",
        "print(\"\\nTensorFlow version:\", tf.__version__)\n",
        "print(\"GPU Available:\", tf.config.list_physical_devices('GPU'))\n",
        "\n",
        "# Enable mixed precision for better GPU performance\n",
        "tf.keras.mixed_precision.set_global_policy('mixed_float16')"
      ]
    },
    {
      "cell_type": "code",
      "execution_count": null,
      "metadata": {
        "id": "clone_repo"
      },
      "outputs": [],
      "source": [
        "# Clone repository (dataset is included in the data folder)\n",
        "!git clone https://github.com/YOUR_USERNAME/FractalN.git\n",
        "%cd FractalN\n",
        "\n",
        "# Check dataset structure\n",
        "!ls -R data/"
      ]
    },
    {
      "cell_type": "code",
      "execution_count": null,
      "metadata": {
        "id": "train_model"
      },
      "outputs": [],
      "source": [
        "# Train the model\n",
        "!python src/train.py"
      ]
    },
    {
      "cell_type": "code",
      "execution_count": null,
      "metadata": {
        "id": "visualize_results"
      },
      "outputs": [],
      "source": [
        "# Display results\n",
        "import matplotlib.pyplot as plt\n",
        "import matplotlib.image as mpimg\n",
        "\n",
        "# Show training history\n",
        "img = mpimg.imread('training_history.png')\n",
        "plt.figure(figsize=(15, 5))\n",
        "plt.imshow(img)\n",
        "plt.axis('off')\n",
        "plt.show()\n",
        "\n",
        "# Show metrics\n",
        "print(\"\\nTraining Metrics:\")\n",
        "!cat training_metrics.txt"
      ]
    },
    {
      "cell_type": "code",
      "execution_count": null,
      "metadata": {
        "id": "test_model"
      },
      "outputs": [],
      "source": [
        "# Test model on sample images\n",
        "def test_prediction(image_path):\n",
        "    !python src/predict.py {image_path}\n",
        "\n",
        "# Test on a few images from test set\n",
        "import random\n",
        "for category in ['edible', 'poisonous']:\n",
        "    test_path = f'data/test/{category}'\n",
        "    images = os.listdir(test_path)\n",
        "    test_image = random.choice(images)\n",
        "    print(f\"\\nTesting {category} image: {test_image}\")\n",
        "    test_prediction(os.path.join(test_path, test_image))"
      ]
    },
    {
      "cell_type": "markdown",
      "metadata": {
        "id": "save_model"
      },
      "source": [
        "## Save the trained model\n",
        "\n",
        "The model will be saved to your Google Drive for future use."
      ]
    },
    {
      "cell_type": "code",
      "execution_count": null,
      "metadata": {
        "id": "download_model"
      },
      "outputs": [],
      "source": [
        "# Download trained model\n",
        "from google.colab import files\n",
        "\n",
        "files.download('mushroom_classifier.keras')\n",
        "files.download('best_model.keras')\n",
        "files.download('training_history.png')\n",
        "files.download('training_metrics.txt')"
      ]
    }
  ],
  "metadata": {
    "accelerator": "GPU",
    "colab": {
      "authorship_tag": "Your Name",
      "name": "Mushroom_Classifier.ipynb",
      "provenance": []
    },
    "kernelspec": {
      "display_name": "Python 3",
      "name": "python3"
    },
    "language_info": {
      "name": "python"
    }
  },
  "nbformat": 4,
  "nbformat_minor": 0
}
