{
  "cells": [
    {
      "cell_type": "markdown",
      "metadata": {
        "id": "setup_header"
      },
      "source": [
        "# Mushroom Classification with Deep Learning\n",
        "\n",
        "This notebook runs the mushroom classifier using Google Colab's GPU.\n",
        "\n",
        "1. First, verify GPU is available\n",
        "2. Clone the repository\n",
        "3. Setup data and environment\n",
        "4. Train the model\n",
        "5. Make predictions"
      ]
    },
    {
      "cell_type": "code",
      "execution_count": null,
      "metadata": {
        "id": "check_gpu"
      },
      "outputs": [],
      "source": [
        "# Check if GPU is available\n",
        "!nvidia-smi\n",
        "\n",
        "import tensorflow as tf\n",
        "print(\"\\nTensorFlow version:\", tf.__version__)\n",
        "print(\"GPU Available:\", tf.config.list_physical_devices('GPU'))"
      ]
    },
    {
      "cell_type": "code",
      "execution_count": null,
      "metadata": {
        "id": "clone_repo"
      },
      "outputs": [],
      "source": [
        "# Clone your repository\n",
        "!git clone https://github.com/YOUR_USERNAME/FractalN.git\n",
        "%cd FractalN"
      ]
    },
    {
      "cell_type": "code",
      "execution_count": null,
      "metadata": {
        "id": "setup_data"
      },
      "outputs": [],
      "source": [
        "# Upload your dataset to Google Drive and mount it\n",
        "from google.colab import drive\n",
        "drive.mount('/content/drive')\n",
        "\n",
        "# Copy dataset from Drive to Colab workspace\n",
        "!cp -r \"/content/drive/MyDrive/path_to_your_dataset/processed_mushroom_dataset\" data/\n",
        "\n",
        "# Prepare the dataset\n",
        "!python src/utils/data_preparation.py"
      ]
    },
    {
      "cell_type": "code",
      "execution_count": null,
      "metadata": {
        "id": "train_model"
      },
      "outputs": [],
      "source": [
        "# Set mixed precision for better GPU performance\n",
        "tf.keras.mixed_precision.set_global_policy('mixed_float16')\n",
        "\n",
        "# Train the model\n",
        "!python src/train.py"
      ]
    },
    {
      "cell_type": "code",
      "execution_count": null,
      "metadata": {
        "id": "visualize_results"
      },
      "outputs": [],
      "source": [
        "# Display training history\n",
        "import matplotlib.pyplot as plt\n",
        "import matplotlib.image as mpimg\n",
        "\n",
        "img = mpimg.imread('training_history.png')\n",
        "plt.figure(figsize=(15, 5))\n",
        "plt.imshow(img)\n",
        "plt.axis('off')\n",
        "plt.show()\n",
        "\n",
        "# Display training metrics\n",
        "!cat training_metrics.txt"
      ]
    },
    {
      "cell_type": "code",
      "execution_count": null,
      "metadata": {
        "id": "test_prediction"
      },
      "outputs": [],
      "source": [
        "# Test the model on a sample image\n",
        "def test_prediction(image_path):\n",
        "    !python src/predict.py {image_path}\n",
        "\n",
        "# Upload and test an image\n",
        "from google.colab import files\n",
        "uploaded = files.upload()\n",
        "\n",
        "for filename in uploaded.keys():\n",
        "    print(f\"\\nTesting image: {filename}\")\n",
        "    test_prediction(filename)"
      ]
    },
    {
      "cell_type": "markdown",
      "metadata": {
        "id": "save_model"
      },
      "source": [
        "## Save the trained model\n",
        "\n",
        "The model will be saved to your Google Drive for future use."
      ]
    },
    {
      "cell_type": "code",
      "execution_count": null,
      "metadata": {
        "id": "save_to_drive"
      },
      "outputs": [],
      "source": [
        "# Save model to Drive\n",
        "!cp mushroom_classifier.keras \"/content/drive/MyDrive/models/\"\n",
        "!cp best_model.keras \"/content/drive/MyDrive/models/\"\n",
        "!cp training_history.png \"/content/drive/MyDrive/models/\"\n",
        "!cp training_metrics.txt \"/content/drive/MyDrive/models/\""
      ]
    }
  ],
  "metadata": {
    "accelerator": "GPU",
    "colab": {
      "authorship_tag": "Your Name",
      "name": "Mushroom_Classifier.ipynb",
      "provenance": []
    },
    "kernelspec": {
      "display_name": "Python 3",
      "name": "python3"
    },
    "language_info": {
      "name": "python"
    }
  },
  "nbformat": 4,
  "nbformat_minor": 0
}
